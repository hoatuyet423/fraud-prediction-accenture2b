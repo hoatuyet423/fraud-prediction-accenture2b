{
  "nbformat": 4,
  "nbformat_minor": 0,
  "metadata": {
    "colab": {
      "provenance": [],
      "authorship_tag": "ABX9TyP6+b6wlEM+TGEt0NliR0Tz",
      "include_colab_link": true
    },
    "kernelspec": {
      "name": "python3",
      "display_name": "Python 3"
    },
    "language_info": {
      "name": "python"
    }
  },
  "cells": [
    {
      "cell_type": "markdown",
      "metadata": {
        "id": "view-in-github",
        "colab_type": "text"
      },
      "source": [
        "<a href=\"https://colab.research.google.com/github/hoatuyet423/fraud-prediction-accenture2b/blob/main/fraud_prediction_accenture2b.ipynb\" target=\"_parent\"><img src=\"https://colab.research.google.com/assets/colab-badge.svg\" alt=\"Open In Colab\"/></a>"
      ]
    },
    {
      "cell_type": "markdown",
      "source": [
        "This is the AI Studio Project hosted by Accenture under the program Break Through Tech AI at UCLA\n",
        "\n",
        "Team members: Jenny Quach, Zahra Iranmanesh, Melody Yu, Veronica Salas, Sabahat Dawar\n",
        "Challenge Advisors: Rachel Cabrera, Brendon T. Ngo\n"
      ],
      "metadata": {
        "id": "Q40--G1vZP5z"
      }
    }
  ]
}